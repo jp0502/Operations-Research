{
  "nbformat": 4,
  "nbformat_minor": 0,
  "metadata": {
    "colab": {
      "provenance": []
    },
    "kernelspec": {
      "name": "python3",
      "display_name": "Python 3"
    },
    "language_info": {
      "name": "python"
    }
  },
  "cells": [
    {
      "cell_type": "markdown",
      "source": [
        "\n",
        "\n",
        "---\n",
        "\n",
        "## MATH 4172 Applied Operations Research Models: March 2nd code \n",
        "\n",
        "Solved Example 1.10 from the textbook.\n"
      ],
      "metadata": {
        "id": "ycU6k44PZ3cN"
      }
    },
    {
      "cell_type": "code",
      "execution_count": 4,
      "metadata": {
        "colab": {
          "base_uri": "https://localhost:8080/"
        },
        "id": "EQfY9rvB9EYk",
        "outputId": "4d117304-6a1e-49bd-f8bc-e4df2b9c3607"
      },
      "outputs": [
        {
          "output_type": "stream",
          "name": "stdout",
          "text": [
            "Looking in indexes: https://pypi.org/simple, https://us-python.pkg.dev/colab-wheels/public/simple/\n",
            "Collecting optlang\n",
            "  Downloading optlang-1.6.1-py2.py3-none-any.whl (138 kB)\n",
            "\u001b[2K     \u001b[90m━━━━━━━━━━━━━━━━━━━━━━━━━━━━━━━━━━━━━━━\u001b[0m \u001b[32m138.4/138.4 KB\u001b[0m \u001b[31m3.9 MB/s\u001b[0m eta \u001b[36m0:00:00\u001b[0m\n",
            "\u001b[?25hCollecting swiglpk>=5.0.8\n",
            "  Downloading swiglpk-5.0.8-cp38-cp38-manylinux_2_17_x86_64.manylinux2014_x86_64.whl (2.3 MB)\n",
            "\u001b[2K     \u001b[90m━━━━━━━━━━━━━━━━━━━━━━━━━━━━━━━━━━━━━━━━\u001b[0m \u001b[32m2.3/2.3 MB\u001b[0m \u001b[31m33.9 MB/s\u001b[0m eta \u001b[36m0:00:00\u001b[0m\n",
            "\u001b[?25hRequirement already satisfied: sympy>=1.0 in /usr/local/lib/python3.8/dist-packages (from optlang) (1.7.1)\n",
            "Requirement already satisfied: six>=1.9 in /usr/local/lib/python3.8/dist-packages (from optlang) (1.15.0)\n",
            "Requirement already satisfied: mpmath>=0.19 in /usr/local/lib/python3.8/dist-packages (from sympy>=1.0->optlang) (1.2.1)\n",
            "Installing collected packages: swiglpk, optlang\n",
            "Successfully installed optlang-1.6.1 swiglpk-5.0.8\n"
          ]
        }
      ],
      "source": [
        "!pip install optlang\n",
        "from optlang.osqp_interface import Model, Variable, Constraint, Objective"
      ]
    },
    {
      "cell_type": "code",
      "source": [
        "# All the (symbolic) variables are declared, with a name and optionally a lower and/or upper bound.\n",
        "\n",
        "# Define coordinates of the centre of each circles \n",
        "X1 = Variable('X1', lb =0) \n",
        "X2 = Variable('X2', lb =0)\n",
        "X3 = Variable('X3', lb =0)\n",
        "X4 = Variable('X4', lb =0)\n",
        "\n",
        "# A constraint is constructed from an expression of variables and a lower and/or upper bound (lb and ub).\n",
        "\n",
        "#Constraint 1: The rate of return must be at least 9%. \n",
        "c1 = Constraint(0.12*100*X1 + 0.08*50*X2 + 0.06*80*X3 + 0.1*0.40*X4, lb = 18000)\n",
        "\n",
        "#Consraints 2-5: No single investment can be more than 50% of the total funds.\n",
        "\n",
        "c2= Constraint(100*X1, ub=100000)\n",
        "c3= Constraint(50*X2, ub=100000)\n",
        "c4= Constraint(80*X3, ub=100000)\n",
        "c5= Constraint(40*X4, ub=100000)\n",
        "\n",
        "#Constraint 6: Total investments must be equal to $200,000\n",
        "\n",
        "c6 = Constraint(100*X1 + 50*X2 + 80*X3 + 40*X4, 200000)\n",
        "\n",
        "\n"
      ],
      "metadata": {
        "id": "6F_BZr_tA-yB"
      },
      "execution_count": 6,
      "outputs": []
    },
    {
      "cell_type": "code",
      "source": [
        "\n",
        "# An objective can be formulated\n",
        "obj = Objective(0.1*100*X1 + 0.07*50*X2 + 0.05*80*X3 + 0.08*40*X4, direction='min')\n",
        "\n",
        "# Variables, constraints and objective are combined in a Model object, which can subsequently be optimized.\n",
        "model = Model(name='Simple model')\n",
        "model.objective = obj\n",
        "model.add([c1, c2, c3, c4,c5,c6])\n",
        "status = model.optimize()\n",
        "print(\"status:\", model.status)\n",
        "print(\"objective value:\", model.objective.value)\n",
        "print(\"----------\")\n",
        "for var_name, var in model.variables.items():\n",
        "    print(var_name, \"=\", var.primal)"
      ],
      "metadata": {
        "colab": {
          "base_uri": "https://localhost:8080/"
        },
        "id": "b_2pvCuZHfeY",
        "outputId": "863cdb23-997c-4d5a-a378-7117e99a5fab"
      },
      "execution_count": 9,
      "outputs": [
        {
          "output_type": "stream",
          "name": "stdout",
          "text": [
            "status: iteration_limit\n",
            "objective value: 20035.59231294858\n",
            "----------\n",
            "X1 = 893.2289780547626\n",
            "X2 = 1851.015517388048\n",
            "X3 = 1156.1870553856966\n",
            "X4 = -6.347464339198353e-13\n"
          ]
        }
      ]
    },
    {
      "cell_type": "code",
      "source": [],
      "metadata": {
        "id": "SR0kqKSpYM-5"
      },
      "execution_count": null,
      "outputs": []
    }
  ]
}